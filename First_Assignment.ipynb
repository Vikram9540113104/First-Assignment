{
  "nbformat": 4,
  "nbformat_minor": 0,
  "metadata": {
    "colab": {
      "provenance": [],
      "authorship_tag": "ABX9TyOfziCF0fiFBO35a/idAC01",
      "include_colab_link": true
    },
    "kernelspec": {
      "name": "python3",
      "display_name": "Python 3"
    },
    "language_info": {
      "name": "python"
    }
  },
  "cells": [
    {
      "cell_type": "markdown",
      "metadata": {
        "id": "view-in-github",
        "colab_type": "text"
      },
      "source": [
        "<a href=\"https://colab.research.google.com/github/Vikram9540113104/First-Assignment/blob/main/First_Assignment.ipynb\" target=\"_parent\"><img src=\"https://colab.research.google.com/assets/colab-badge.svg\" alt=\"Open In Colab\"/></a>"
      ]
    },
    {
      "cell_type": "code",
      "execution_count": null,
      "metadata": {
        "colab": {
          "base_uri": "https://localhost:8080/"
        },
        "id": "Ns2Kv6NB6-dh",
        "outputId": "9f9d6f98-f9d7-4241-8eb5-d0f55723823e"
      },
      "outputs": [
        {
          "output_type": "stream",
          "name": "stdout",
          "text": [
            "lanoitanretnI\n"
          ]
        }
      ],
      "source": [
        "#1. write a code to reverse a string\n",
        "a = \"International\"\n",
        "print(a[::-1])"
      ]
    },
    {
      "cell_type": "code",
      "source": [
        "b = \"pwskills\"\n",
        "print(b[::-1])"
      ],
      "metadata": {
        "colab": {
          "base_uri": "https://localhost:8080/"
        },
        "id": "beRgbvR_7NoO",
        "outputId": "3b9d5093-0c2b-4e12-b763-c965086ace6c"
      },
      "execution_count": null,
      "outputs": [
        {
          "output_type": "stream",
          "name": "stdout",
          "text": [
            "sllikswp\n"
          ]
        }
      ]
    },
    {
      "cell_type": "code",
      "source": [
        "#2. Write a code to count the number of vowels in a string.\n",
        "s=input(\"Enter any string:\")\n",
        "v=c=u=l=0\n",
        "for i in s:\n",
        "    if i.isalpha():\n",
        "        if i.lower() in 'aieou':\n",
        "            v+=1\n",
        "        else:\n",
        "            c+=1\n",
        "    if i.isupper():\n",
        "        u+=1\n",
        "    if i.islower():\n",
        "        l+=1\n",
        "print(\"Vowels:\", v)\n",
        "print(\"Constants:\", c)\n",
        "print(\"Uppercase=\", u)\n",
        "print(\"Lowercase=\", l)"
      ],
      "metadata": {
        "colab": {
          "base_uri": "https://localhost:8080/"
        },
        "id": "zfPUVJV27RzT",
        "outputId": "e93851a1-a03c-4df5-cd06-b385a4c073cf"
      },
      "execution_count": null,
      "outputs": [
        {
          "output_type": "stream",
          "name": "stdout",
          "text": [
            "Enter any string:My name is Vikram Singh\n",
            "Vowels: 6\n",
            "Constants: 13\n",
            "Uppercase= 3\n",
            "Lowercase= 16\n"
          ]
        }
      ]
    },
    {
      "cell_type": "code",
      "source": [
        "#3. Write a code to check if a given string is a palindrome or not.\n",
        "Original=input(\"Enter a string : \")\n",
        "Riverse=Original[::-1]\n",
        "if Original == Riverse:\n",
        "    print(\"string is panlindrome\")\n",
        "else:\n",
        "    print(\"String is not palindrome\")"
      ],
      "metadata": {
        "colab": {
          "base_uri": "https://localhost:8080/"
        },
        "id": "pTXLQV8R7ZX5",
        "outputId": "ba323f50-19e2-445f-90cb-fdbe5836f491"
      },
      "execution_count": null,
      "outputs": [
        {
          "output_type": "stream",
          "name": "stdout",
          "text": [
            "Enter a string : madam\n",
            "string is panlindrome\n"
          ]
        }
      ]
    },
    {
      "cell_type": "code",
      "source": [
        "Original=input(\"Enter a string : \")\n",
        "Riverse=Original[::-1]\n",
        "if Original == Riverse:\n",
        "    print(\"string is panlindrome\")\n",
        "else:\n",
        "    print(\"String is not palindrome\")"
      ],
      "metadata": {
        "colab": {
          "base_uri": "https://localhost:8080/"
        },
        "id": "LfYojiPu7pjv",
        "outputId": "d6e64f09-74b4-407d-c249-6a410e5e16fd"
      },
      "execution_count": null,
      "outputs": [
        {
          "output_type": "stream",
          "name": "stdout",
          "text": [
            "Enter a string : Nitin\n",
            "String is not palindrome\n"
          ]
        }
      ]
    },
    {
      "cell_type": "code",
      "source": [
        "#4. Write a code to check if two given strings are anagrams of each other.\n",
        "word1 = \"night\"\n",
        "word2 = \"thing\"\n",
        "if(sorted(word1)) == (sorted(word2)):\n",
        "    print(\"Anagrams\")\n",
        "else:\n",
        "    print(\"Not Anagrams\")"
      ],
      "metadata": {
        "colab": {
          "base_uri": "https://localhost:8080/"
        },
        "id": "-MHMoic-74ap",
        "outputId": "68d0cfe3-2004-4219-c396-cca5a4885660"
      },
      "execution_count": null,
      "outputs": [
        {
          "output_type": "stream",
          "name": "stdout",
          "text": [
            "Anagrams\n"
          ]
        }
      ]
    },
    {
      "cell_type": "code",
      "source": [
        "# 5. Write a code to all occurences of a given substring within another string.\n",
        "\"ABCABCABCA\"\n",
        "subs = \"ABC\"\n",
        "i = s.find(subs)\n",
        "if i == -1:\n",
        "    print(\"substring not found\")\n",
        "while i != -1:\n",
        "    print(\"{} present at index: {}\".format(subs, i))\n",
        "    i = s.find(subs, i+len(subs), len(s))"
      ],
      "metadata": {
        "colab": {
          "base_uri": "https://localhost:8080/"
        },
        "id": "Y6cxVjjc8OkV",
        "outputId": "917329e4-8fdb-4f42-d1cd-8ff79251ac4a"
      },
      "execution_count": null,
      "outputs": [
        {
          "output_type": "stream",
          "name": "stdout",
          "text": [
            "substring not found\n"
          ]
        }
      ]
    },
    {
      "cell_type": "code",
      "source": [
        "# 6. Write a code to perform basic string compression using the counts o repeated character.\n",
        "def solve(s):\n",
        "   res = \"\"\n",
        "   cnt = 1\n",
        "   for i in range(1, len(s)):\n",
        "      if s[i - 1] == s[i]:\n",
        "         cnt += 1\n",
        "      else:\n",
        "         res = res + s[i - 1]\n",
        "         if cnt > 1:\n",
        "            res += str(cnt)\n",
        "         cnt = 1\n",
        "   res = res + s[-1]\n",
        "   if cnt > 1:\n",
        "      res += str(cnt)\n",
        "   return res\n",
        "\n",
        "s = \"abbbaaaaaaccdaaab\"\n",
        "print(solve(s))"
      ],
      "metadata": {
        "colab": {
          "base_uri": "https://localhost:8080/"
        },
        "id": "Bg0UjZhX8WWW",
        "outputId": "14d44026-ae0a-460c-a277-fb4f13b9516c"
      },
      "execution_count": null,
      "outputs": [
        {
          "output_type": "stream",
          "name": "stdout",
          "text": [
            "ab3a6c2da3b\n"
          ]
        }
      ]
    },
    {
      "cell_type": "code",
      "source": [
        "# 7.  write a code to determine if a string has all unique characters\n",
        "str1 = {\"vikram\", \"pwskills\", \"data\", \"science\"}\n",
        "str2 = {\"vikram\", \"pwskills\", \"ML\", \"Analytics\"}\n",
        "str1 & str2"
      ],
      "metadata": {
        "colab": {
          "base_uri": "https://localhost:8080/"
        },
        "id": "Qwm_XJCt8i3u",
        "outputId": "cd60a0f7-33c4-47bf-9b25-66e16f482b65"
      },
      "execution_count": null,
      "outputs": [
        {
          "output_type": "execute_result",
          "data": {
            "text/plain": [
              "{'pwskills', 'vikram'}"
            ]
          },
          "metadata": {},
          "execution_count": 10
        }
      ]
    },
    {
      "cell_type": "code",
      "source": [
        "# 8. Write a code to convert a given string to uppercase or lowercase\n",
        "s=input(\"Enter any string:\")\n",
        "print(s.lower())\n",
        "print(s.upper())"
      ],
      "metadata": {
        "colab": {
          "base_uri": "https://localhost:8080/"
        },
        "id": "yRPAOIXU8sTB",
        "outputId": "2f478fec-af5c-4165-e64b-ce3060081ff9"
      },
      "execution_count": null,
      "outputs": [
        {
          "output_type": "stream",
          "name": "stdout",
          "text": [
            "Enter any string:pwskills data science\n",
            "pwskills data science\n",
            "PWSKILLS DATA SCIENCE\n"
          ]
        }
      ]
    },
    {
      "cell_type": "code",
      "source": [
        "# 9. Write a code to count the number of words in a string.\n",
        "str3 =input(\"Enter string: \" )\n",
        "str4 = str3.split()\n",
        "print(len(str4))"
      ],
      "metadata": {
        "colab": {
          "base_uri": "https://localhost:8080/"
        },
        "id": "HYb6cpWe805T",
        "outputId": "aaae6040-adf0-4c37-ec13-ec0fe50cad27"
      },
      "execution_count": null,
      "outputs": [
        {
          "output_type": "stream",
          "name": "stdout",
          "text": [
            "Enter string: My name is Vikram Singh\n",
            "5\n"
          ]
        }
      ]
    },
    {
      "cell_type": "code",
      "source": [
        "# 10. Write a code to concatenate two string without using the + operator\n",
        "a = \"Hello, \"\n",
        "b = \"world!\"\n",
        "def concatenate_strings(a, b):\n",
        "    concatenated_string = \"{}{}\".format(a, b)\n",
        "    return concatenated_string\n",
        "concatenate_str = concatenate_strings(a, b)\n",
        "print(\"Concatenated string:\", concatenate_str)"
      ],
      "metadata": {
        "colab": {
          "base_uri": "https://localhost:8080/"
        },
        "id": "eIT1oRSQ9J_h",
        "outputId": "a435794f-a194-4c63-837f-70c4e90acbf7"
      },
      "execution_count": null,
      "outputs": [
        {
          "output_type": "stream",
          "name": "stdout",
          "text": [
            "Concatenated string: Hello, world!\n"
          ]
        }
      ]
    },
    {
      "cell_type": "code",
      "source": [
        "# 11. Write a code to remove all occurences of a specific element from a list.\n",
        "def remove_elements_from_list(lst, element):\n",
        "    return [item for item in lst if item != element]\n",
        "\n",
        "# Example usage:\n",
        "original_list = [1, 2, 3, 4, 2, 5, 2]\n",
        "element_to_remove = 2\n",
        "\n",
        "modified_list = remove_elements_from_list(original_list, element_to_remove)\n",
        "print(\"Original List:\", original_list)\n",
        "print(\"Modified List (element removed):\", modified_list)"
      ],
      "metadata": {
        "colab": {
          "base_uri": "https://localhost:8080/"
        },
        "id": "4muZNaGc9X2N",
        "outputId": "318ba00c-b922-4265-a005-0327c9828551"
      },
      "execution_count": null,
      "outputs": [
        {
          "output_type": "stream",
          "name": "stdout",
          "text": [
            "Original List: [1, 2, 3, 4, 2, 5, 2]\n",
            "Modified List (element removed): [1, 3, 4, 5]\n"
          ]
        }
      ]
    },
    {
      "cell_type": "code",
      "source": [
        "# 12. Implement a code to find the second largest number in a given list of integers.\n",
        "def find_second_largest(nums):\n",
        "    # Check if the list has at least two elements\n",
        "    if len(nums) < 2:\n",
        "        return \"List must have at least two elements\"\n",
        "\n",
        "    # Initialize first and second largest elements\n",
        "    largest = float('-inf')\n",
        "    second_largest = float('-inf')\n",
        "\n",
        "    # Traverse the list to find the two largest elements\n",
        "    for num in nums:\n",
        "        if num > largest:\n",
        "            second_largest = largest\n",
        "            largest = num\n",
        "        elif num > second_largest and num != largest:\n",
        "            second_largest = num\n",
        "\n",
        "    return second_largest\n",
        "\n",
        "# Example usage:\n",
        "nums = [3, 8, 1, 4, 10, 5, 7]\n",
        "print(\"Second largest number:\", find_second_largest(nums))"
      ],
      "metadata": {
        "colab": {
          "base_uri": "https://localhost:8080/"
        },
        "id": "MoLUZPIM9huV",
        "outputId": "b0f8ea13-bdb7-4e75-b10a-64e5d6a5cfbb"
      },
      "execution_count": null,
      "outputs": [
        {
          "output_type": "stream",
          "name": "stdout",
          "text": [
            "Second largest number: 8\n"
          ]
        }
      ]
    },
    {
      "cell_type": "code",
      "source": [
        "# 13. Create a code to count the occurrences of each element in a list and return a dictionary with element as keys and their counts as values.\n",
        "def count_elements(lst):\n",
        "    count_dict = {}\n",
        "\n",
        "    for element in lst:\n",
        "        if element in count_dict:\n",
        "            count_dict[element] += 1\n",
        "        else:\n",
        "            count_dict[element] = 1\n",
        "\n",
        "    return count_dict\n",
        "\n",
        "# Example usage:\n",
        "numbers = [1, 2, 3, 4, 1, 2, 3, 1, 2, 1]\n",
        "element_counts = count_elements(numbers)\n",
        "print(\"Element counts:\", element_counts)"
      ],
      "metadata": {
        "id": "njKN0qSB9prv",
        "colab": {
          "base_uri": "https://localhost:8080/"
        },
        "outputId": "5a54c6ac-f652-47df-a489-ed0efae9fc21"
      },
      "execution_count": null,
      "outputs": [
        {
          "output_type": "stream",
          "name": "stdout",
          "text": [
            "Element counts: {1: 4, 2: 3, 3: 2, 4: 1}\n"
          ]
        }
      ]
    },
    {
      "cell_type": "code",
      "source": [
        "# 14. Write a code to reverse a list in-place without using any built-in reverse functions.\n",
        "def reverse_list_in_place(lst):\n",
        "    left = 0\n",
        "    right = len(lst) - 1\n",
        "\n",
        "    while left < right:\n",
        "        # Swap elements at left and right indices\n",
        "        lst[left], lst[right] = lst[right], lst[left]\n",
        "        # Move towards the center\n",
        "        left += 1\n",
        "        right -= 1\n",
        "\n",
        "# Example usage:\n",
        "my_list = [1, 2, 3, 4, 5]\n",
        "print(\"Original list:\", my_list)\n",
        "reverse_list_in_place(my_list)\n",
        "print(\"Reversed list:\", my_list)"
      ],
      "metadata": {
        "colab": {
          "base_uri": "https://localhost:8080/"
        },
        "id": "k9Q84IRr-b7C",
        "outputId": "3ba9cc5f-ae48-48fc-d5a9-108813deeed0"
      },
      "execution_count": null,
      "outputs": [
        {
          "output_type": "stream",
          "name": "stdout",
          "text": [
            "Original list: [1, 2, 3, 4, 5]\n",
            "Reversed list: [5, 4, 3, 2, 1]\n"
          ]
        }
      ]
    },
    {
      "cell_type": "code",
      "source": [
        "# 15. Implement a code to find and remove duplicates from a list while preserving the original order of elements.\n",
        "def remove_duplicates_preserve_order(lst):\n",
        "    seen = set()\n",
        "    result = []\n",
        "\n",
        "    for item in lst:\n",
        "        if item not in seen:\n",
        "            seen.add(item)\n",
        "            result.append(item)\n",
        "\n",
        "    return result\n",
        "\n",
        "# Example usage:\n",
        "original_list = [1, 2, 3, 2, 4, 1, 5]\n",
        "unique_list = remove_duplicates_preserve_order(original_list)\n",
        "print(\"Original list:\", original_list)\n",
        "print(\"List with duplicates removed:\", unique_list)"
      ],
      "metadata": {
        "colab": {
          "base_uri": "https://localhost:8080/"
        },
        "id": "nEuidLV5-gKJ",
        "outputId": "5ad80615-fec0-428b-9731-53cd1b85f5e0"
      },
      "execution_count": null,
      "outputs": [
        {
          "output_type": "stream",
          "name": "stdout",
          "text": [
            "Original list: [1, 2, 3, 2, 4, 1, 5]\n",
            "List with duplicates removed: [1, 2, 3, 4, 5]\n"
          ]
        }
      ]
    },
    {
      "cell_type": "code",
      "source": [
        "# 16. Create a code to check if a given list is sorted (either in ascending or desceding order)or not.\n",
        "def is_sorted(lst):\n",
        "    # Check if the list is sorted in ascending order\n",
        "    if all(lst[i] <= lst[i + 1] for i in range(len(lst) - 1)):\n",
        "        return \"Ascending\"\n",
        "\n",
        "    # Check if the list is sorted in descending order\n",
        "    if all(lst[i] >= lst[i + 1] for i in range(len(lst) - 1)):\n",
        "        return \"Descending\"\n",
        "\n",
        "    # If neither, then the list is not sorted\n",
        "    return \"Not sorted\"\n",
        "\n",
        "# Example usage:\n",
        "list1 = [1, 2, 3, 4, 5]\n",
        "list2 = [5, 4, 3, 2, 1]\n",
        "list3 = [1, 3, 2, 4, 5]\n",
        "\n",
        "print(\"List 1 is\", is_sorted(list1))\n",
        "print(\"List 2 is\", is_sorted(list2))\n",
        "print(\"List 3 is\", is_sorted(list3))\n"
      ],
      "metadata": {
        "colab": {
          "base_uri": "https://localhost:8080/"
        },
        "id": "ai8qzbaY-mEe",
        "outputId": "1361260e-7d61-4a6f-92d4-439be73caf96"
      },
      "execution_count": null,
      "outputs": [
        {
          "output_type": "stream",
          "name": "stdout",
          "text": [
            "List 1 is Ascending\n",
            "List 2 is Descending\n",
            "List 3 is Not sorted\n"
          ]
        }
      ]
    },
    {
      "cell_type": "code",
      "source": [
        "# 17. Write a code to merge two sorted lists into a single sorted list.\n",
        "def merge_sorted_lists(list1, list2):\n",
        "    merged_list = []\n",
        "    i, j = 0, 0\n",
        "\n",
        "    # Merge lists while both lists have elements\n",
        "    while i < len(list1) and j < len(list2):\n",
        "        if list1[i] < list2[j]:\n",
        "            merged_list.append(list1[i])\n",
        "            i += 1\n",
        "        else:\n",
        "            merged_list.append(list2[j])\n",
        "            j += 1\n",
        "\n",
        "    # Append remaining elements from list1\n",
        "    while i < len(list1):\n",
        "        merged_list.append(list1[i])\n",
        "        i += 1\n",
        "\n",
        "    # Append remaining elements from list2\n",
        "    while j < len(list2):\n",
        "        merged_list.append(list2[j])\n",
        "        j += 1\n",
        "\n",
        "    return merged_list\n",
        "\n",
        "# Example usage:\n",
        "list1 = [1, 3, 5, 7]\n",
        "list2 = [2, 4, 6, 8]\n",
        "merged_list = merge_sorted_lists(list1, list2)\n",
        "print(\"Merged sorted list:\", merged_list)"
      ],
      "metadata": {
        "colab": {
          "base_uri": "https://localhost:8080/"
        },
        "id": "uqKEsA1A-rdn",
        "outputId": "5eb1c583-c5f3-486d-e68a-93a17ea955b3"
      },
      "execution_count": null,
      "outputs": [
        {
          "output_type": "stream",
          "name": "stdout",
          "text": [
            "Merged sorted list: [1, 2, 3, 4, 5, 6, 7, 8]\n"
          ]
        }
      ]
    },
    {
      "cell_type": "code",
      "source": [
        "# 18. Implemented a code to find the intersection of two given lists.\n",
        "def find_intersection(list1, list2):\n",
        "    set1 = set(list1)\n",
        "    set2 = set(list2)\n",
        "\n",
        "    intersection = set1.intersection(set2)\n",
        "\n",
        "    return list(intersection)\n",
        "\n",
        "# Example usage:\n",
        "list1 = [1, 2, 3, 4, 5]\n",
        "list2 = [3, 4, 5, 6, 7]\n",
        "intersection = find_intersection(list1, list2)\n",
        "print(\"Intersection of list1 and list2:\", intersection)"
      ],
      "metadata": {
        "colab": {
          "base_uri": "https://localhost:8080/"
        },
        "id": "AmuxhUiL-8i9",
        "outputId": "7189d3be-8ed8-4a87-d5d0-3995a75ece71"
      },
      "execution_count": null,
      "outputs": [
        {
          "output_type": "stream",
          "name": "stdout",
          "text": [
            "Intersection of list1 and list2: [3, 4, 5]\n"
          ]
        }
      ]
    },
    {
      "cell_type": "code",
      "source": [
        "# 19. Create a code to find the union of two lists without duplicates.\n",
        "def find_union(list1, list2):\n",
        "    set1 = set(list1)\n",
        "    set2 = set(list2)\n",
        "\n",
        "    union_set = set1.union(set2)\n",
        "\n",
        "    return list(union_set)\n",
        "\n",
        "# Example usage:\n",
        "list1 = [1, 2, 3, 4, 5]\n",
        "list2 = [3, 4, 5, 6, 7]\n",
        "union = find_union(list1, list2)\n",
        "print(\"Union of list1 and list2:\", union)"
      ],
      "metadata": {
        "colab": {
          "base_uri": "https://localhost:8080/"
        },
        "id": "BF7aD9iW_Kz4",
        "outputId": "3ff6d45a-0db8-4030-f300-d293148197bd"
      },
      "execution_count": null,
      "outputs": [
        {
          "output_type": "stream",
          "name": "stdout",
          "text": [
            "Union of list1 and list2: [1, 2, 3, 4, 5, 6, 7]\n"
          ]
        }
      ]
    },
    {
      "cell_type": "code",
      "source": [
        "# 20. Write a code to shuffle a given list randomly without using any built-in shuffle functions.\n",
        "import random\n",
        "\n",
        "def shuffle_list(lst):\n",
        "    shuffled_list = lst[:]  # Create a copy of the original list\n",
        "\n",
        "    # Perform Fisher-Yates shuffle\n",
        "    n = len(shuffled_list)\n",
        "    for i in range(n - 1, 0, -1):\n",
        "        # Pick a random index from 0 to i inclusive\n",
        "        j = random.randint(0, i)\n",
        "\n",
        "        # Swap elements at i and j indices\n",
        "        shuffled_list[i], shuffled_list[j] = shuffled_list[j], shuffled_list[i]\n",
        "\n",
        "    return shuffled_list\n",
        "\n",
        "# Example usage:\n",
        "original_list = [1, 2, 3, 4, 5]\n",
        "shuffled_list = shuffle_list(original_list)\n",
        "print(\"Original list:\", original_list)\n",
        "print(\"Shuffled list:\", shuffled_list)"
      ],
      "metadata": {
        "colab": {
          "base_uri": "https://localhost:8080/"
        },
        "id": "WCzFbgbS_Qro",
        "outputId": "a500c706-8b52-4969-b33c-70d0bbbba831"
      },
      "execution_count": null,
      "outputs": [
        {
          "output_type": "stream",
          "name": "stdout",
          "text": [
            "Original list: [1, 2, 3, 4, 5]\n",
            "Shuffled list: [2, 1, 5, 4, 3]\n"
          ]
        }
      ]
    },
    {
      "cell_type": "code",
      "source": [
        "  # 21. Write a code that takes two tuples as input and returns  a new tuple containing elements that are common to both input tuples.\n",
        "def common_elements(tuple1, tuple2):\n",
        "    common_elements = tuple(elem for elem in tuple1 if elem in tuple2)\n",
        "    return common_elements\n",
        "# Example usage:\n",
        "tuple1 = (1, 2, 3, 4)\n",
        "tuple2 = (2, 3, 5)\n",
        "result = common_elements(tuple1, tuple2)\n",
        "print(result)  # Output: (2, 3)"
      ],
      "metadata": {
        "colab": {
          "base_uri": "https://localhost:8080/"
        },
        "id": "6G0HwNaY_X88",
        "outputId": "062a8e67-1731-4ab5-a589-70f7af18f1b7"
      },
      "execution_count": null,
      "outputs": [
        {
          "output_type": "stream",
          "name": "stdout",
          "text": [
            "(2, 3)\n"
          ]
        }
      ]
    },
    {
      "cell_type": "code",
      "source": [
        "# 22. Create code that prompts the user to enter two sets of integers separated by commas. Then, print the intersection of these two sets.\n",
        "L1 = [1, 2, 3, 4, 5]\n",
        "L2 = [3, 4, 5, 6, 6]\n",
        "union = []\n",
        "intersection = []\n",
        "# union\n",
        "for i in L1:\n",
        "    if i not in union:\n",
        "        union.append(i)\n",
        "for j in L2:\n",
        "    if j not in union:\n",
        "        union.append(j)\n",
        "# Intersection\n",
        "for i in L1:\n",
        "    if i in L2:\n",
        "        intersection.append(i)\n",
        "print(\"Your union list\", union)\n",
        "print(\"Your intersection list\", intersection)"
      ],
      "metadata": {
        "colab": {
          "base_uri": "https://localhost:8080/"
        },
        "id": "YPGWDg7b_tX6",
        "outputId": "9935706e-0f23-4cba-9eb2-1d9f4879864b"
      },
      "execution_count": null,
      "outputs": [
        {
          "output_type": "stream",
          "name": "stdout",
          "text": [
            "Your union list [1, 2, 3, 4, 5, 6]\n",
            "Your intersection list [3, 4, 5]\n"
          ]
        }
      ]
    },
    {
      "cell_type": "code",
      "source": [
        "# 23. Write a code to concatenate two tuples. The function should take two tuples as input and return a new tuple containing elements from both input tuples.\n",
        "\n",
        "def concatenate_tuples(tuple1, tuple2):\n",
        "    # Concatenate the two tuples and return the result\n",
        "    return tuple1 + tuple2\n",
        "\n",
        "# Example usage\n",
        "tuple_a = (1, 2, 3)\n",
        "tuple_b = (4, 5, 6)\n",
        "result = concatenate_tuples(tuple_a, tuple_b)\n",
        "\n",
        "print(result)  # Output: (1, 2, 3, 4, 5, 6)"
      ],
      "metadata": {
        "colab": {
          "base_uri": "https://localhost:8080/"
        },
        "id": "CvXduExT_xuc",
        "outputId": "c3e1f5cd-2bda-4eaa-ff29-6f39c9ddaf65"
      },
      "execution_count": null,
      "outputs": [
        {
          "output_type": "stream",
          "name": "stdout",
          "text": [
            "(1, 2, 3, 4, 5, 6)\n"
          ]
        }
      ]
    },
    {
      "cell_type": "code",
      "source": [
        "# 24. Develop a code that prompts the user to input two sets of strings. Then, print the elements that are present in the first set bu not in the second set.\n",
        "\n",
        "# Function to get a set of strings from user input\n",
        "def get_string_set(prompt):\n",
        "    user_input = input(prompt)\n",
        "    return set(user_input.split())\n",
        "\n",
        "# Get two sets of strings from the user\n",
        "set1 = get_string_set(\"Enter the first set of strings (separated by spaces): \")\n",
        "set2 = get_string_set(\"Enter the second set of strings (separated by spaces): \")\n",
        "\n",
        "# Find elements present in the first set but not in the second\n",
        "difference = set1 - set2\n",
        "\n",
        "# Print the result\n",
        "print(\"Elements in the first set but not in the second set:\", difference)"
      ],
      "metadata": {
        "colab": {
          "base_uri": "https://localhost:8080/"
        },
        "id": "U5pIUhkWBHbi",
        "outputId": "1a950d8e-7467-48ed-e3bb-b1cdb4fb6d25"
      },
      "execution_count": null,
      "outputs": [
        {
          "output_type": "stream",
          "name": "stdout",
          "text": [
            "Enter the first set of strings (separated by spaces): 23 22 45 24\n",
            "Enter the second set of strings (separated by spaces): 12 13 14 15\n",
            "Elements in the first set but not in the second set: {'22', '23', '24', '45'}\n"
          ]
        }
      ]
    },
    {
      "cell_type": "code",
      "source": [
        "# 25. Create a cod that takes a tuple and two integers as input. The function should return a new tuple containing elements from the original tuple within the specified  range of indices.\n",
        "\n",
        "def slice_tuple(original_tuple, start_index, end_index):\n",
        "    # Return a new tuple containing elements from start_index to end_index (exclusive)\n",
        "    return original_tuple[start_index:end_index]\n",
        "\n",
        "# Example usage\n",
        "my_tuple = (5, 10, 15, 20, 25, 30)\n",
        "start = 1\n",
        "end = 4\n",
        "result = slice_tuple(my_tuple, start, end)\n",
        "\n",
        "print(result)"
      ],
      "metadata": {
        "colab": {
          "base_uri": "https://localhost:8080/"
        },
        "id": "6m1-bZkXQwdd",
        "outputId": "7234fdee-3502-418f-92e6-5bd4034825f6"
      },
      "execution_count": null,
      "outputs": [
        {
          "output_type": "stream",
          "name": "stdout",
          "text": [
            "(10, 15, 20)\n"
          ]
        }
      ]
    },
    {
      "cell_type": "code",
      "source": [
        "# 26. Write a code that prompts the user to input two sets of characters. Then,  print the union of these two sets.\n",
        "# Function to get a set of characters from user input\n",
        "def get_character_set(prompt):\n",
        "    user_input = input(prompt)\n",
        "    return set(user_input)\n",
        "\n",
        "# Get the two sets from the user\n",
        "set1 = get_character_set(\"Enter the first set of characters: \")\n",
        "set2 = get_character_set(\"Enter the second set of characters: \")\n",
        "\n",
        "# Calculate the union of the two sets\n",
        "union_set = set1.union(set2)\n",
        "\n",
        "# Print the result\n",
        "print(\"The union of the two sets is:\", union_set)"
      ],
      "metadata": {
        "colab": {
          "base_uri": "https://localhost:8080/"
        },
        "id": "M5MblkHRR7xa",
        "outputId": "af6c2d3d-80b2-4409-be0d-9251dddc307d"
      },
      "execution_count": null,
      "outputs": [
        {
          "output_type": "stream",
          "name": "stdout",
          "text": [
            "Enter the first set of characters: abcdef\n",
            "Enter the second set of characters: defghi\n",
            "The union of the two sets is: {'e', 'b', 'c', 'i', 'd', 'g', 'f', 'a', 'h'}\n"
          ]
        }
      ]
    },
    {
      "cell_type": "code",
      "source": [
        "# 27. Develop a code that takes a tuple of integers as input. The function should return the maximum and minimum values from the tuple using tuple unpacking.\n",
        "\n",
        "def find_max_min(numbers):\n",
        "    # Ensure the input is a tuple\n",
        "    if not isinstance(numbers, tuple):\n",
        "        raise ValueError(\"Input must be a tuple.\")\n",
        "\n",
        "    # Using max and min to get the values\n",
        "    max_value = max(numbers)\n",
        "    min_value = min(numbers)\n",
        "\n",
        "    # Return the max and min values as a tuple\n",
        "    return max_value, min_value\n",
        "\n",
        "# Example usage\n",
        "input_tuple = tuple(map(int, input(\"Enter integers separated by spaces: \").split()))\n",
        "max_val, min_val = find_max_min(input_tuple)\n",
        "\n",
        "print(\"Maximum value:\", max_val)\n",
        "print(\"Minimum value:\", min_val)"
      ],
      "metadata": {
        "colab": {
          "base_uri": "https://localhost:8080/"
        },
        "id": "EyBlVdXsTiWG",
        "outputId": "dd2f28e6-dd5f-4960-ef97-710cfd83b3e6"
      },
      "execution_count": null,
      "outputs": [
        {
          "output_type": "stream",
          "name": "stdout",
          "text": [
            "Enter integers separated by spaces: 1 2 3 4 5 6 7 8 9\n",
            "Maximum value: 9\n",
            "Minimum value: 1\n"
          ]
        }
      ]
    },
    {
      "cell_type": "code",
      "source": [
        "# 28. Create a code that defines two sets of inteters. Then, print the union, intersection, and difference of these two sets.\n",
        "\n",
        "# Define two sets of integers\n",
        "set1 = {1, 2, 3, 4, 5}\n",
        "set2 = {4, 5, 6, 7, 8}\n",
        "\n",
        "# Calculate the union, intersection, and difference\n",
        "union_set = set1.union(set2)\n",
        "intersection_set = set1.intersection(set2)\n",
        "difference_set = set1.difference(set2)\n",
        "\n",
        "# Print the results\n",
        "print(\"Set 1:\", set1)\n",
        "print(\"Set 2:\", set2)\n",
        "print(\"Union of Set 1 and Set 2:\", union_set)\n",
        "print(\"Intersection of Set 1 and Set 2:\", intersection_set)\n",
        "print(\"Difference (Set 1 - Set 2):\", difference_set)"
      ],
      "metadata": {
        "colab": {
          "base_uri": "https://localhost:8080/"
        },
        "id": "eQKc_hwuV7ZV",
        "outputId": "cea26547-7cea-48f8-e992-199ab8af7231"
      },
      "execution_count": null,
      "outputs": [
        {
          "output_type": "stream",
          "name": "stdout",
          "text": [
            "Set 1: {1, 2, 3, 4, 5}\n",
            "Set 2: {4, 5, 6, 7, 8}\n",
            "Union of Set 1 and Set 2: {1, 2, 3, 4, 5, 6, 7, 8}\n",
            "Intersection of Set 1 and Set 2: {4, 5}\n",
            "Difference (Set 1 - Set 2): {1, 2, 3}\n"
          ]
        }
      ]
    },
    {
      "cell_type": "code",
      "source": [
        "29. # Write a code that takes a tuple and an element as input. The function should return the count of occurrencesof the given element in the tuple.\n",
        "\n",
        "def count_occurrences(input_tuple, element):\n",
        "    # Count occurrences of the element in the tuple\n",
        "    return input_tuple.count(element)\n",
        "\n",
        "# Example usage\n",
        "input_tuple = tuple(input(\"Enter elements of the tuple separated by spaces: \").split())\n",
        "element = input(\"Enter the element to count: \")\n",
        "\n",
        "count = count_occurrences(input_tuple, element)\n",
        "print(f\"The element '{element}' occurs {count} time(s) in the tuple.\")"
      ],
      "metadata": {
        "colab": {
          "base_uri": "https://localhost:8080/"
        },
        "id": "YAM6Cvl2WVGR",
        "outputId": "363389f3-1b7f-4c2e-a51f-3ff3a3e7dca1"
      },
      "execution_count": null,
      "outputs": [
        {
          "output_type": "stream",
          "name": "stdout",
          "text": [
            "Enter elements of the tuple separated by spaces: apple grapes mango guava orange apple\n",
            "Enter the element to count: apple\n",
            "The element 'apple' occurs 2 time(s) in the tuple.\n"
          ]
        }
      ]
    },
    {
      "cell_type": "code",
      "source": [
        "# 30. Develop a code that prompts the user to input two sets of strings. Then, print the symmetric difference of thse two sets.\n",
        "# Function to get a set of strings from user input\n",
        "def get_string_set(prompt):\n",
        "    user_input = input(prompt)\n",
        "    return set(user_input.split())\n",
        "\n",
        "# Get the two sets from the user\n",
        "set1 = get_string_set(\"Enter the first set of strings (separated by spaces): \")\n",
        "set2 = get_string_set(\"Enter the second set of strings (separated by spaces): \")\n",
        "\n",
        "# Calculate the symmetric difference\n",
        "symmetric_difference = set1.symmetric_difference(set2)\n",
        "\n",
        "# Print the result\n",
        "print(\"The symmetric difference of the two sets is:\", symmetric_difference)"
      ],
      "metadata": {
        "colab": {
          "base_uri": "https://localhost:8080/"
        },
        "id": "yiENI0e9ZS_l",
        "outputId": "6382cde5-751b-45ec-f743-0502a0a93603"
      },
      "execution_count": null,
      "outputs": [
        {
          "output_type": "stream",
          "name": "stdout",
          "text": [
            "Enter the first set of strings (separated by spaces): apple banana orange grapes kiwi\n",
            "Enter the second set of strings (separated by spaces): apple guava lichi \n",
            "The symmetric difference of the two sets is: {'grapes', 'kiwi', 'lichi', 'guava', 'banana', 'orange'}\n"
          ]
        }
      ]
    },
    {
      "cell_type": "code",
      "source": [
        "# 31. Write a code that takes a list of word as input and returns a dictionary where the keys are unique words and the values are the frequencies of thos words in the input list.\n",
        "\n",
        "def count_word_frequencies(words):\n",
        "    frequency_dict = {}\n",
        "\n",
        "    for word in words:\n",
        "        if word in frequency_dict:\n",
        "            frequency_dict[word] += 1\n",
        "        else:\n",
        "            frequency_dict[word] = 1\n",
        "\n",
        "    return frequency_dict\n",
        "\n",
        "# Example usage\n",
        "input_words = input(\"Enter a list of words separated by spaces: \").split()\n",
        "word_frequencies = count_word_frequencies(input_words)\n",
        "\n",
        "print(\"Word frequencies:\", word_frequencies)"
      ],
      "metadata": {
        "colab": {
          "base_uri": "https://localhost:8080/"
        },
        "id": "4VXy1Pg6dedB",
        "outputId": "f92b50fc-78d3-40b9-a42b-a65f641157ec"
      },
      "execution_count": null,
      "outputs": [
        {
          "output_type": "stream",
          "name": "stdout",
          "text": [
            "Enter a list of words separated by spaces: apple banana apple orange guava banana\n",
            "Word frequencies: {'apple': 2, 'banana': 2, 'orange': 1, 'guava': 1}\n"
          ]
        }
      ]
    },
    {
      "cell_type": "code",
      "source": [
        "#32. Write a code that takes two dictionaries as input and merges them into a single dictionary. If there are common keys, the values should be added together.\n",
        "def merge_dictionaries(dict1, dict2):\n",
        "    merged_dict = dict1.copy()  # Start with the first dictionary\n",
        "\n",
        "    for key, value in dict2.items():\n",
        "        if key in merged_dict:\n",
        "            merged_dict[key] += value  # Add values for common keys\n",
        "        else:\n",
        "            merged_dict[key] = value  # Add new keys\n",
        "\n",
        "    return merged_dict\n",
        "\n",
        "# Example usage\n",
        "dict1 = eval(input(\"Enter the first dictionary: \"))\n",
        "dict2 = eval(input(\"Enter the second dictionary: \"))\n",
        "\n",
        "merged_result = merge_dictionaries(dict1, dict2)\n",
        "print(\"Merged dictionary:\", merged_result)"
      ],
      "metadata": {
        "colab": {
          "base_uri": "https://localhost:8080/"
        },
        "id": "CoQhbJpBeKfV",
        "outputId": "274db8d9-4cf8-45e4-eea3-49d9208f6349"
      },
      "execution_count": null,
      "outputs": [
        {
          "output_type": "stream",
          "name": "stdout",
          "text": [
            "Enter the first dictionary: {'apple': 2, 'orange': 2, 'apple':  2, }\n",
            "Enter the second dictionary: {'apple': 2, 'grapes': 1, 'kiwi': 4}\n",
            "Merged dictionary: {'apple': 4, 'orange': 2, 'grapes': 1, 'kiwi': 4}\n"
          ]
        }
      ]
    },
    {
      "cell_type": "code",
      "source": [
        "# 33. Write a code to access a value in nexted dictionary. The function should take the  dictionary and list of keys as input, and return the corresponding value. If any of the keys do not exist in the dictionary, the function should return None.\n",
        "\n",
        "def access_nested_dict(nested_dict, keys):\n",
        "    current_value = nested_dict\n",
        "    for key in keys:\n",
        "        if key in current_value:\n",
        "            current_value = current_value[key]\n",
        "        else:\n",
        "            return None  # Return None if any key is not found\n",
        "    return current_value\n",
        "\n",
        "# Example usage\n",
        "nested_dict = {\n",
        "    'a': {\n",
        "        'b': {\n",
        "            'c': 42\n",
        "        }\n",
        "    },\n",
        "    'x': {\n",
        "        'y': 100\n",
        "    }\n",
        "}\n",
        "\n",
        "keys = input(\"Enter the list of keys separated by spaces: \").split()\n",
        "result = access_nested_dict(nested_dict, keys)\n",
        "\n",
        "if result is not None:\n",
        "    print(\"The value is:\", result)\n",
        "else:\n",
        "    print(\"None of the keys exist in the dictionary.\")"
      ],
      "metadata": {
        "colab": {
          "base_uri": "https://localhost:8080/"
        },
        "id": "drOeeHjKicES",
        "outputId": "8dd66752-b367-4288-ca49-8539a7b9d3cb"
      },
      "execution_count": null,
      "outputs": [
        {
          "output_type": "stream",
          "name": "stdout",
          "text": [
            "Enter the list of keys separated by spaces: a b c\n",
            "The value is: 42\n"
          ]
        }
      ]
    },
    {
      "cell_type": "code",
      "source": [
        "# 34. Write a code that takes a dictionary as input and returns a sorted version of it based on the values. You can choose whether to sot in ascending or descending order.\n",
        "\n",
        "def sort_dict_by_values(input_dict, descending=True):\n",
        "    # Sort the dictionary based on values\n",
        "    sorted_items = sorted(input_dict.items(), key=lambda x: x[1], reverse=descending)\n",
        "\n",
        "    # Create a new dictionary from the sorted items\n",
        "    sorted_dict = {key: value for key, value in sorted_items}\n",
        "\n",
        "    return sorted_dict\n",
        "\n",
        "# Example usage\n",
        "input_dict = {'apple': 5, 'banana': 3, 'orange': 7, 'grape': 1}\n",
        "sorted_dict_desc = sort_dict_by_values(input_dict, descending=True)\n",
        "sorted_dict_asc = sort_dict_by_values(input_dict, descending=False)\n",
        "\n",
        "print(\"Original dictionary:\", input_dict)\n",
        "print(\"Sorted dictionary (descending order):\", sorted_dict_desc)\n",
        "print(\"Sorted dictionary (ascending order):\", sorted_dict_asc)"
      ],
      "metadata": {
        "colab": {
          "base_uri": "https://localhost:8080/"
        },
        "id": "oqfKGMIoiEBy",
        "outputId": "96b82117-2a31-45be-b732-7017ea61a0ba"
      },
      "execution_count": null,
      "outputs": [
        {
          "output_type": "stream",
          "name": "stdout",
          "text": [
            "Original dictionary: {'apple': 5, 'banana': 3, 'orange': 7, 'grape': 1}\n",
            "Sorted dictionary (descending order): {'orange': 7, 'apple': 5, 'banana': 3, 'grape': 1}\n",
            "Sorted dictionary (ascending order): {'grape': 1, 'banana': 3, 'apple': 5, 'orange': 7}\n"
          ]
        }
      ]
    },
    {
      "cell_type": "code",
      "source": [
        "#35. Write a code that inverts a dictionary, swapping keys and values. Ensure that the inverted dictionary correctly handles cases where multiple keys have the same value by storing the keys as a list in the inverted dictionary.\n",
        "\n",
        "def invert_dict(input_dict):\n",
        "    inverted_dict = {}\n",
        "\n",
        "    for key, value in input_dict.items():\n",
        "        if value in inverted_dict:\n",
        "            inverted_dict[value].append(key)  # Append to existing list of keys\n",
        "        else:\n",
        "            inverted_dict[value] = [key]  # Create a new list with the key\n",
        "\n",
        "    return inverted_dict\n",
        "\n",
        "# Example usage\n",
        "input_dict = {'apple': 5, 'banana': 3, 'orange': 5, 'grape': 3}\n",
        "inverted_dict = invert_dict(input_dict)\n",
        "\n",
        "print(\"Original dictionary:\", input_dict)\n",
        "print(\"Inverted dictionary:\", inverted_dict)"
      ],
      "metadata": {
        "colab": {
          "base_uri": "https://localhost:8080/"
        },
        "id": "HuRMMGsg1ET0",
        "outputId": "4d8f8216-8868-4ec8-e386-727880aea004"
      },
      "execution_count": null,
      "outputs": [
        {
          "output_type": "stream",
          "name": "stdout",
          "text": [
            "Original dictionary: {'apple': 5, 'banana': 3, 'orange': 5, 'grape': 3}\n",
            "Inverted dictionary: {5: ['apple', 'orange'], 3: ['banana', 'grape']}\n"
          ]
        }
      ]
    },
    {
      "cell_type": "code",
      "source": [],
      "metadata": {
        "id": "mOotCTv_3UYQ"
      },
      "execution_count": null,
      "outputs": []
    }
  ]
}